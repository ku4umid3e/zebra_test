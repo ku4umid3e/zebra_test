{
 "cells": [
  {
   "cell_type": "code",
   "execution_count": 1,
   "id": "2ef3065a",
   "metadata": {},
   "outputs": [],
   "source": [
    "from ultralytics import YOLO\n",
    "import matplotlib.pyplot as plt\n",
    "import cv2\n",
    "import numpy as np\n",
    "\n",
    "model = YOLO(\"runs/segment/train2/weights/best.pt\")"
   ]
  },
  {
   "cell_type": "code",
   "execution_count": null,
   "id": "fc1be3f2",
   "metadata": {},
   "outputs": [
    {
     "name": "stdout",
     "output_type": "stream",
     "text": [
      "\n",
      "Ultralytics 8.3.161 🚀 Python-3.10.18 torch-2.9.0.dev20250702+rocm6.4 CPU (AMD Ryzen AI 9 HX 370 w/ Radeon 890M)\n",
      "YOLO11s-seg summary (fused): 113 layers, 10,068,364 parameters, 0 gradients, 35.3 GFLOPs\n",
      "0: 640x384 1 tea, 2 meats, 72.5ms\n",
      "Speed: 2.3ms preprocess, 72.5ms inference, 1.4ms postprocess per image at shape (1, 3, 640, 384)\n",
      "Results saved to \u001b[1m/home/ku4umid3e/my_project/zebra/runs/segment/predict6\u001b[0m\n"
     ]
    }
   ],
   "source": [
    "img = cv2.imread(\"dataset/all_images/image-0020 (copy 4).png\")\n",
    "results = model(img, imgsz=640, iou=0.4, conf=0.7, save=True, device='cpu')"
   ]
  },
  {
   "cell_type": "code",
   "execution_count": 6,
   "id": "a67c44e4",
   "metadata": {},
   "outputs": [
    {
     "ename": "TypeError",
     "evalue": "destroyWindow() missing required argument 'winname' (pos 1)",
     "output_type": "error",
     "traceback": [
      "\u001b[0;31m---------------------------------------------------------------------------\u001b[0m",
      "\u001b[0;31mTypeError\u001b[0m                                 Traceback (most recent call last)",
      "Cell \u001b[0;32mIn[6], line 32\u001b[0m\n\u001b[1;32m     28\u001b[0m     cap\u001b[38;5;241m.\u001b[39mrelease()\n\u001b[1;32m     30\u001b[0m     cv2\u001b[38;5;241m.\u001b[39mdestroyWindow()\n\u001b[0;32m---> 32\u001b[0m \u001b[43myolo_test_video_detect\u001b[49m\u001b[43m(\u001b[49m\n\u001b[1;32m     33\u001b[0m \u001b[43m    \u001b[49m\u001b[43mmodel\u001b[49m\u001b[38;5;241;43m=\u001b[39;49m\u001b[43mmodel\u001b[49m\u001b[43m,\u001b[49m\n\u001b[1;32m     34\u001b[0m \u001b[43m    \u001b[49m\u001b[43minput_video\u001b[49m\u001b[38;5;241;43m=\u001b[39;49m\u001b[38;5;124;43m'\u001b[39;49m\u001b[38;5;124;43mdataset/3_1.MOV\u001b[39;49m\u001b[38;5;124;43m'\u001b[39;49m\n\u001b[1;32m     35\u001b[0m \u001b[43m)\u001b[49m\n",
      "Cell \u001b[0;32mIn[6], line 23\u001b[0m, in \u001b[0;36myolo_test_video_detect\u001b[0;34m(model, input_video)\u001b[0m\n\u001b[1;32m     20\u001b[0m     cv2\u001b[38;5;241m.\u001b[39mimshow(\u001b[38;5;124m'\u001b[39m\u001b[38;5;124mYOLOv11 Tracking\u001b[39m\u001b[38;5;124m'\u001b[39m, annotated_frame)\n\u001b[1;32m     22\u001b[0m     \u001b[38;5;28;01mif\u001b[39;00m cv2\u001b[38;5;241m.\u001b[39mwaitKey(\u001b[38;5;241m1\u001b[39m) \u001b[38;5;241m&\u001b[39m \u001b[38;5;241m0xFF\u001b[39m \u001b[38;5;241m==\u001b[39m \u001b[38;5;28mord\u001b[39m(\u001b[38;5;124m'\u001b[39m\u001b[38;5;124mq\u001b[39m\u001b[38;5;124m'\u001b[39m):\n\u001b[0;32m---> 23\u001b[0m         \u001b[43mcv2\u001b[49m\u001b[38;5;241;43m.\u001b[39;49m\u001b[43mdestroyWindow\u001b[49m\u001b[43m(\u001b[49m\u001b[43m)\u001b[49m\n\u001b[1;32m     24\u001b[0m         \u001b[38;5;28;01mbreak\u001b[39;00m\n\u001b[1;32m     25\u001b[0m \u001b[38;5;28;01melse\u001b[39;00m:\n",
      "\u001b[0;31mTypeError\u001b[0m: destroyWindow() missing required argument 'winname' (pos 1)"
     ]
    }
   ],
   "source": [
    "def yolo_test_video_detect(model, input_video):\n",
    "    cap = cv2.VideoCapture(input_video)\n",
    "\n",
    "    if not cap.isOpened():\n",
    "        raise Exception('Error: Could not oprn video!')\n",
    "    \n",
    "    fps = int(cap.get(cv2.CAP_PROP_FPS))\n",
    "    frame_width = int(cap.get(cv2.CAP_PROP_FRAME_WIDTH))\n",
    "    frame_height = int(cap.get(cv2.CAP_PROP_FRAME_HEIGHT))\n",
    "\n",
    "    while cap.isOpened():\n",
    "        success, frame = cap.read()\n",
    "\n",
    "        if success:\n",
    "            results = model.track(frame, persist=True, iou=0.65, conf=0.70, device='cpu',\n",
    "                                  tracker='botsort.yaml', imgsz=640, verbose=False)\n",
    "            annotated_frame = results[0].plot()\n",
    "\n",
    "            annotated_frame = cv2.resize(annotated_frame, (annotated_frame.shape[1]//2, annotated_frame.shape[0]//2))\n",
    "            cv2.imshow('YOLOv11 Tracking', annotated_frame)\n",
    "\n",
    "            if cv2.waitKey(1) & 0xFF == ord('q'):\n",
    "                cv2.destroyWindow()\n",
    "                break\n",
    "        else:\n",
    "            break\n",
    "\n",
    "    cap.release()\n",
    "\n",
    "    cv2.destroyWindow()\n",
    "\n",
    "yolo_test_video_detect(\n",
    "    model=model,\n",
    "    input_video='dataset/3_1.MOV'\n",
    ")\n",
    "\n"
   ]
  }
 ],
 "metadata": {
  "kernelspec": {
   "display_name": ".venv",
   "language": "python",
   "name": "python3"
  },
  "language_info": {
   "codemirror_mode": {
    "name": "ipython",
    "version": 3
   },
   "file_extension": ".py",
   "mimetype": "text/x-python",
   "name": "python",
   "nbconvert_exporter": "python",
   "pygments_lexer": "ipython3",
   "version": "3.10.18"
  }
 },
 "nbformat": 4,
 "nbformat_minor": 5
}
